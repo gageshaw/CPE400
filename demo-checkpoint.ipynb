{
 "cells": [
  {
   "cell_type": "code",
   "execution_count": 160,
   "metadata": {},
   "outputs": [
    {
     "name": "stdout",
     "output_type": "stream",
     "text": [
      "I'm node:  0\n",
      "pFail:  71\n",
      "links:  [[ 1 84]\n",
      " [ 2 53]]\n",
      "timeCost:  53\n",
      "rTable:\n",
      " [[ 0. 84. 53.]\n",
      " [inf inf inf]\n",
      " [inf inf inf]]\n",
      "I'm node:  1\n",
      "pFail:  46\n",
      "links:  [[ 0 84]\n",
      " [ 2 84]]\n",
      "timeCost:  84\n",
      "rTable:\n",
      " [[inf inf inf]\n",
      " [84.  0. 84.]\n",
      " [inf inf inf]]\n",
      "I'm node:  2\n",
      "pFail:  84\n",
      "links:  [[ 1 84]\n",
      " [ 0 53]]\n",
      "timeCost:  11\n",
      "rTable:\n",
      " [[inf inf inf]\n",
      " [inf inf inf]\n",
      " [53. 84.  0.]]\n"
     ]
    },
    {
     "data": {
      "text/plain": [
       "<network.network at 0x7fb94b03e160>"
      ]
     },
     "execution_count": 160,
     "metadata": {},
     "output_type": "execute_result"
    }
   ],
   "source": [
    "import network as n\n",
    "import importlib\n",
    "importlib.reload(n)\n",
    "\n",
    "\n",
    "n.network(10,10)"
   ]
  },
  {
   "cell_type": "code",
   "execution_count": null,
   "metadata": {},
   "outputs": [],
   "source": []
  },
  {
   "cell_type": "code",
   "execution_count": null,
   "metadata": {},
   "outputs": [],
   "source": []
  },
  {
   "cell_type": "code",
   "execution_count": null,
   "metadata": {},
   "outputs": [],
   "source": []
  }
 ],
 "metadata": {
  "kernelspec": {
   "display_name": "Python 3",
   "language": "python",
   "name": "python3"
  },
  "language_info": {
   "codemirror_mode": {
    "name": "ipython",
    "version": 3
   },
   "file_extension": ".py",
   "mimetype": "text/x-python",
   "name": "python",
   "nbconvert_exporter": "python",
   "pygments_lexer": "ipython3",
   "version": "3.8.3"
  }
 },
 "nbformat": 4,
 "nbformat_minor": 4
}
